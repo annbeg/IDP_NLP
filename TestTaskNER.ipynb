{
  "nbformat": 4,
  "nbformat_minor": 0,
  "metadata": {
    "accelerator": "GPU",
    "colab": {
      "name": "Copy of TestTaskNER.ipynb",
      "provenance": []
    },
    "kernelspec": {
      "display_name": "Python 3",
      "name": "python3"
    },
    "language_info": {
      "name": "python"
    }
  },
  "cells": [
    {
      "cell_type": "markdown",
      "metadata": {
        "id": "W3W68fXhinqH"
      },
      "source": [
        "# Тестовое задание \n",
        "\n",
        "   Ваша задача написать пайплайн для тренировки модели глубоко обучения (любую – **embeddings + LSTM, Bert** …) с использованием следующих инструментов: pytorch, sklearn, matplotlib – для решения задачи **NER** (извлечения сущностей).\n",
        "\n",
        "   В качестве данных используется датасет **Conll2003** с четырьмя классами **Per, Org, Loc, Misc** в формате **Conll**.\n",
        "\n",
        "   В тетрадке ниже заданы основные классы и функции для построения требуемого пайплайн, какие-то уже имплементированы, какие-то – нет. Их требуется доработать. Тем не менее если данный набор абстракций вам не подходит Вы можете написать свой пайплайн «с нуля», однако обоснованность у этих действий должна быть.\n",
        "\n",
        "**Что оценивается в первую очередь:**\n",
        "- Выбранная архитектура для решения задачи\n",
        "- Выбранные предобученные веса \n",
        "- Полученные метрики\n",
        "\n",
        "**Затем:**\n",
        "- Глубина разведочного анализа\n",
        "- Какая схема теггирования используется (**BIO, IO** или другие)\n",
        "- Каким образом производится расчет метрик (потокенный отчет, отчет по точному совпадению спанов сущностей)\n",
        "\n",
        "**С меньшим приоритетом:** \n",
        "- Скорость предобработки и постобработки данных \n",
        "- Стиль кода"
      ]
    },
    {
      "cell_type": "code",
      "metadata": {
        "colab": {
          "base_uri": "https://localhost:8080/"
        },
        "id": "SiBslWvSRKH0",
        "outputId": "12a444b5-5d5f-4f3c-c975-5e5dcac5db84"
      },
      "source": [
        "!wget https://raw.githubusercontent.com/synalp/NER/master/corpus/CoNLL-2003/eng.testa\n",
        "!wget https://raw.githubusercontent.com/synalp/NER/master/corpus/CoNLL-2003/eng.train"
      ],
      "execution_count": 1,
      "outputs": [
        {
          "output_type": "stream",
          "text": [
            "--2021-05-30 20:39:29--  https://raw.githubusercontent.com/synalp/NER/master/corpus/CoNLL-2003/eng.testa\n",
            "Resolving raw.githubusercontent.com (raw.githubusercontent.com)... 185.199.108.133, 185.199.109.133, 185.199.110.133, ...\n",
            "Connecting to raw.githubusercontent.com (raw.githubusercontent.com)|185.199.108.133|:443... connected.\n",
            "HTTP request sent, awaiting response... 200 OK\n",
            "Length: 827012 (808K) [text/plain]\n",
            "Saving to: ‘eng.testa.7’\n",
            "\n",
            "\reng.testa.7           0%[                    ]       0  --.-KB/s               \reng.testa.7         100%[===================>] 807.63K  --.-KB/s    in 0.01s   \n",
            "\n",
            "2021-05-30 20:39:29 (62.8 MB/s) - ‘eng.testa.7’ saved [827012/827012]\n",
            "\n",
            "--2021-05-30 20:39:29--  https://raw.githubusercontent.com/synalp/NER/master/corpus/CoNLL-2003/eng.train\n",
            "Resolving raw.githubusercontent.com (raw.githubusercontent.com)... 185.199.108.133, 185.199.109.133, 185.199.110.133, ...\n",
            "Connecting to raw.githubusercontent.com (raw.githubusercontent.com)|185.199.108.133|:443... connected.\n",
            "HTTP request sent, awaiting response... 200 OK\n",
            "Length: 3281528 (3.1M) [text/plain]\n",
            "Saving to: ‘eng.train.7’\n",
            "\n",
            "eng.train.7         100%[===================>]   3.13M  --.-KB/s    in 0.06s   \n",
            "\n",
            "2021-05-30 20:39:30 (53.2 MB/s) - ‘eng.train.7’ saved [3281528/3281528]\n",
            "\n"
          ],
          "name": "stdout"
        }
      ]
    },
    {
      "cell_type": "code",
      "metadata": {
        "colab": {
          "base_uri": "https://localhost:8080/"
        },
        "id": "-xppWX4SO9NF",
        "outputId": "11391242-bc18-487a-f03c-60a471f5aaac"
      },
      "source": [
        "! pip install transformers"
      ],
      "execution_count": 2,
      "outputs": [
        {
          "output_type": "stream",
          "text": [
            "Requirement already satisfied: transformers in /usr/local/lib/python3.7/dist-packages (4.6.1)\n",
            "Requirement already satisfied: sacremoses in /usr/local/lib/python3.7/dist-packages (from transformers) (0.0.45)\n",
            "Requirement already satisfied: importlib-metadata; python_version < \"3.8\" in /usr/local/lib/python3.7/dist-packages (from transformers) (4.0.1)\n",
            "Requirement already satisfied: filelock in /usr/local/lib/python3.7/dist-packages (from transformers) (3.0.12)\n",
            "Requirement already satisfied: tqdm>=4.27 in /usr/local/lib/python3.7/dist-packages (from transformers) (4.41.1)\n",
            "Requirement already satisfied: packaging in /usr/local/lib/python3.7/dist-packages (from transformers) (20.9)\n",
            "Requirement already satisfied: requests in /usr/local/lib/python3.7/dist-packages (from transformers) (2.23.0)\n",
            "Requirement already satisfied: regex!=2019.12.17 in /usr/local/lib/python3.7/dist-packages (from transformers) (2019.12.20)\n",
            "Requirement already satisfied: tokenizers<0.11,>=0.10.1 in /usr/local/lib/python3.7/dist-packages (from transformers) (0.10.3)\n",
            "Requirement already satisfied: numpy>=1.17 in /usr/local/lib/python3.7/dist-packages (from transformers) (1.19.5)\n",
            "Requirement already satisfied: huggingface-hub==0.0.8 in /usr/local/lib/python3.7/dist-packages (from transformers) (0.0.8)\n",
            "Requirement already satisfied: click in /usr/local/lib/python3.7/dist-packages (from sacremoses->transformers) (7.1.2)\n",
            "Requirement already satisfied: six in /usr/local/lib/python3.7/dist-packages (from sacremoses->transformers) (1.15.0)\n",
            "Requirement already satisfied: joblib in /usr/local/lib/python3.7/dist-packages (from sacremoses->transformers) (1.0.1)\n",
            "Requirement already satisfied: typing-extensions>=3.6.4; python_version < \"3.8\" in /usr/local/lib/python3.7/dist-packages (from importlib-metadata; python_version < \"3.8\"->transformers) (3.7.4.3)\n",
            "Requirement already satisfied: zipp>=0.5 in /usr/local/lib/python3.7/dist-packages (from importlib-metadata; python_version < \"3.8\"->transformers) (3.4.1)\n",
            "Requirement already satisfied: pyparsing>=2.0.2 in /usr/local/lib/python3.7/dist-packages (from packaging->transformers) (2.4.7)\n",
            "Requirement already satisfied: chardet<4,>=3.0.2 in /usr/local/lib/python3.7/dist-packages (from requests->transformers) (3.0.4)\n",
            "Requirement already satisfied: certifi>=2017.4.17 in /usr/local/lib/python3.7/dist-packages (from requests->transformers) (2020.12.5)\n",
            "Requirement already satisfied: urllib3!=1.25.0,!=1.25.1,<1.26,>=1.21.1 in /usr/local/lib/python3.7/dist-packages (from requests->transformers) (1.24.3)\n",
            "Requirement already satisfied: idna<3,>=2.5 in /usr/local/lib/python3.7/dist-packages (from requests->transformers) (2.10)\n"
          ],
          "name": "stdout"
        }
      ]
    },
    {
      "cell_type": "code",
      "metadata": {
        "id": "61Q6EAQsXMgf"
      },
      "source": [
        "import torch\n",
        "from torch.utils.data import Dataset, DataLoader\n",
        "from torch.optim.lr_scheduler import StepLR\n",
        "\n",
        "from transformers import BertForTokenClassification, BertTokenizer\n",
        "\n",
        "from keras.preprocessing.sequence import pad_sequences\n",
        "\n",
        "from typing import List\n",
        "from collections import Counter\n",
        "import matplotlib.pyplot as plt\n",
        "from tqdm import tqdm\n",
        "from torch import nn\n",
        "from sklearn.metrics import classification_report\n",
        "\n",
        "import pandas as pd"
      ],
      "execution_count": 3,
      "outputs": []
    },
    {
      "cell_type": "code",
      "metadata": {
        "colab": {
          "base_uri": "https://localhost:8080/"
        },
        "id": "HUVbuWYaT1YI",
        "outputId": "d73f06c3-4ac8-4707-ef86-cb77d7dbc042"
      },
      "source": [
        "def read_data(file):\n",
        "  lines = open(file, \"r\").readlines()\n",
        "  data = {\"sentences\": [], \"labels_per_sent\": []}\n",
        "  sentence, labels = [], []\n",
        "  for line in tqdm(lines):\n",
        "    line = line.strip()\n",
        "    if not line:\n",
        "      if sentence and labels:\n",
        "        assert len(sentence) == len(labels)\n",
        "        data[\"sentences\"].append(sentence)\n",
        "        data[\"labels_per_sent\"].append(labels)\n",
        "        sentence, labels = [], []\n",
        "      continue\n",
        "    if line.startswith(\"-DOCSTART-\"):\n",
        "      continue\n",
        "    else:\n",
        "      values = line.split(\" \")\n",
        "      try:\n",
        "        token, _, _, label = values\n",
        "        sentence.append(token)\n",
        "        if label != 'O':\n",
        "          labels.append(label.split('-')[-1])\n",
        "        else:\n",
        "          labels.append(label)\n",
        "\n",
        "      except Exception as e:\n",
        "        print(f\"Error has occur: {e}\")\n",
        "        continue\n",
        "  return data\n",
        "\n",
        "\n",
        "train = read_data(\"eng.train\")\n",
        "valid = read_data(\"eng.testa\")"
      ],
      "execution_count": 4,
      "outputs": [
        {
          "output_type": "stream",
          "text": [
            "100%|██████████| 219554/219554 [00:00<00:00, 618156.80it/s]\n",
            "100%|██████████| 55045/55045 [00:00<00:00, 980183.93it/s]\n"
          ],
          "name": "stderr"
        }
      ]
    },
    {
      "cell_type": "code",
      "metadata": {
        "id": "lksWDE2MZaGU"
      },
      "source": [
        "def get_label_distribution(labels: List[List[str]]):\n",
        "  labels = [label \\\n",
        "            for labels_per_sent in labels \\\n",
        "            for label in labels_per_sent]\n",
        "  return Counter(labels)"
      ],
      "execution_count": 5,
      "outputs": []
    },
    {
      "cell_type": "code",
      "metadata": {
        "id": "QL5KBeDUan66"
      },
      "source": [
        "train_distribution = get_label_distribution(train[\"labels_per_sent\"])\n",
        "valid_distribution = get_label_distribution(valid[\"labels_per_sent\"])"
      ],
      "execution_count": 6,
      "outputs": []
    },
    {
      "cell_type": "code",
      "metadata": {
        "colab": {
          "base_uri": "https://localhost:8080/",
          "height": 543
        },
        "id": "Ma7HHMQua3L8",
        "outputId": "8030f062-b8cd-4c0e-ed5f-9960192b0408"
      },
      "source": [
        "def visualize_distr(data: Counter):\n",
        "  labels = list(data.keys())\n",
        "  plt.bar(x=labels, height=list(data.values()))\n",
        "  plt.show()\n",
        "\n",
        "\n",
        "print(\"Train distribution\")\n",
        "visualize_distr(train_distribution)\n",
        "print(\"Valid distribution\")\n",
        "visualize_distr(valid_distribution)"
      ],
      "execution_count": 7,
      "outputs": [
        {
          "output_type": "stream",
          "text": [
            "Train distribution\n"
          ],
          "name": "stdout"
        },
        {
          "output_type": "display_data",
          "data": {
            "image/png": "[encoded data removed]",
            "text/plain": [
              "<Figure size 432x288 with 1 Axes>"
            ]
          },
          "metadata": {
            "tags": [],
            "needs_background": "light"
          }
        },
        {
          "output_type": "stream",
          "text": [
            "Valid distribution\n"
          ],
          "name": "stdout"
        },
        {
          "output_type": "display_data",
          "data": {
            "image/png": "[encoded data removed]",
            "text/plain": [
              "<Figure size 432x288 with 1 Axes>"
            ]
          },
          "metadata": {
            "tags": [],
            "needs_background": "light"
          }
        }
      ]
    },
    {
      "cell_type": "code",
      "metadata": {
        "colab": {
          "base_uri": "https://localhost:8080/",
          "height": 543
        },
        "id": "L3DjpMjYbqqW",
        "outputId": "4bcf16b9-bbcc-4344-ffa0-111bd72a10b9"
      },
      "source": [
        "print(\"Train distribution without 'O' \")\n",
        "visualize_distr({key:train_distribution[key] \\\n",
        "                 for key in train_distribution.keys() \\\n",
        "                 if key in ['LOC','ORG','MISC','PER']})\n",
        "print(\"Valid distribution without 'O' \")\n",
        "visualize_distr({key:valid_distribution[key] \\\n",
        "                 for key in valid_distribution.keys() \\\n",
        "                 if key in ['LOC','ORG','MISC','PER']})"
      ],
      "execution_count": 8,
      "outputs": [
        {
          "output_type": "stream",
          "text": [
            "Train distribution without 'O' \n"
          ],
          "name": "stdout"
        },
        {
          "output_type": "display_data",
          "data": {
            "image/png": "[encoded data removed]",
            "text/plain": [
              "<Figure size 432x288 with 1 Axes>"
            ]
          },
          "metadata": {
            "tags": [],
            "needs_background": "light"
          }
        },
        {
          "output_type": "stream",
          "text": [
            "Valid distribution without 'O' \n"
          ],
          "name": "stdout"
        },
        {
          "output_type": "display_data",
          "data": {
            "image/png": "[encoded data removed]",
            "text/plain": [
              "<Figure size 432x288 with 1 Axes>"
            ]
          },
          "metadata": {
            "tags": [],
            "needs_background": "light"
          }
        }
      ]
    },
    {
      "cell_type": "code",
      "metadata": {
        "id": "SH8Qn94p5p1J"
      },
      "source": [
        "tokenizer = BertTokenizer.from_pretrained('bert-base-cased', do_lower_case=False)"
      ],
      "execution_count": 9,
      "outputs": []
    },
    {
      "cell_type": "markdown",
      "metadata": {
        "id": "lhklM5UdjGjD"
      },
      "source": [
        "Так как максимальная длина последовательности в предобученной модели BERT равна 512, проверим максимальную длину последовательности в наших данных."
      ]
    },
    {
      "cell_type": "code",
      "metadata": {
        "colab": {
          "base_uri": "https://localhost:8080/"
        },
        "id": "9VZIdby2XyA7",
        "outputId": "fc72c971-3ebd-4cb1-8373-f117d62fafa5"
      },
      "source": [
        "max_len = max([len(sen) for sen in train['sentences']])\n",
        "top5_len = sorted([len(sen) for sen in train['sentences']])[-5:]\n",
        "\n",
        "print('Самое длинное предложение:')\n",
        "print(max_len)\n",
        "print()\n",
        "print('Топ 5 длин предложений:')\n",
        "print(top5_len)"
      ],
      "execution_count": 10,
      "outputs": [
        {
          "output_type": "stream",
          "text": [
            "Самое длинное предложение:\n",
            "113\n",
            "\n",
            "Топ 5 длин предложений:\n",
            "[62, 62, 67, 78, 113]\n"
          ],
          "name": "stdout"
        }
      ]
    },
    {
      "cell_type": "code",
      "metadata": {
        "colab": {
          "base_uri": "https://localhost:8080/"
        },
        "id": "ebtRbvA-eGAt",
        "outputId": "7dbd71ac-6bd2-44e7-fb6a-d085cfc3a515"
      },
      "source": [
        "print('Топ 5 длин предложений в валидационной выборке:')\n",
        "sorted([len(sen) for sen in valid['sentences']])[-5:]"
      ],
      "execution_count": 11,
      "outputs": [
        {
          "output_type": "stream",
          "text": [
            "Топ 5 длин предложений в валидационной выборке:\n"
          ],
          "name": "stdout"
        },
        {
          "output_type": "execute_result",
          "data": {
            "text/plain": [
              "[83, 91, 93, 105, 109]"
            ]
          },
          "metadata": {
            "tags": []
          },
          "execution_count": 11
        }
      ]
    },
    {
      "cell_type": "markdown",
      "metadata": {
        "id": "I7z08mSdd5Pk"
      },
      "source": [
        "Токенизируем предложения в соответствии с найденной максимальной длиной предложения."
      ]
    },
    {
      "cell_type": "code",
      "metadata": {
        "id": "mm2uua1O5QZT"
      },
      "source": [
        "train['sentences'] = [tokenizer.convert_tokens_to_ids(sen) \\\n",
        "                      for sen in train['sentences']]\n",
        "train['sentences'] = pad_sequences(train['sentences'],\n",
        "                          maxlen=max_len, dtype=\"long\", value=0.0,\n",
        "                          truncating=\"post\", padding=\"post\")\n",
        "\n",
        "valid['sentences'] = [tokenizer.convert_tokens_to_ids(sen) \\\n",
        "                      for sen in valid['sentences']]\n",
        "valid['sentences'] = pad_sequences(valid['sentences'],\n",
        "                          maxlen=max_len, dtype=\"long\", value=0.0,\n",
        "                          truncating=\"post\", padding=\"post\")"
      ],
      "execution_count": 12,
      "outputs": []
    },
    {
      "cell_type": "code",
      "metadata": {
        "id": "BhbeReMBABOD"
      },
      "source": [
        "label_to_index = {lab:i for i,lab in enumerate(train_distribution.keys())}\n",
        "\n",
        "train['labels_per_sent'] = pad_sequences([[label_to_index[lab] \\\n",
        "                                           for lab in labs] \\\n",
        "                                          for labs in train['labels_per_sent']],\n",
        "                          maxlen=max_len, dtype=\"long\", value=label_to_index['O'],\n",
        "                          truncating=\"post\", padding=\"post\")\n",
        "\n",
        "\n",
        "valid['labels_per_sent'] = pad_sequences([[label_to_index[lab] \\\n",
        "                                           for lab in labs] \\\n",
        "                                          for labs in valid['labels_per_sent']],\n",
        "                          maxlen=max_len, dtype=\"long\", value=label_to_index['O'],\n",
        "                          truncating=\"post\", padding=\"post\")\n"
      ],
      "execution_count": 13,
      "outputs": []
    },
    {
      "cell_type": "code",
      "metadata": {
        "id": "PZu5utyQ_VYj"
      },
      "source": [
        "train['sentences'] = torch.tensor(train['sentences'])\n",
        "valid['sentences'] = torch.tensor(valid['sentences'])\n",
        "\n",
        "train['labels_per_sent'] = torch.tensor(train['labels_per_sent'])\n",
        "valid['labels_per_sent'] = torch.tensor(valid['labels_per_sent'])\n"
      ],
      "execution_count": 14,
      "outputs": []
    },
    {
      "cell_type": "code",
      "metadata": {
        "id": "tlO1AWxXYPVl"
      },
      "source": [
        "class NERDataset(Dataset):\n",
        "\n",
        "  def __init__(self, data):\n",
        "    self.sentences = data['sentences']\n",
        "    self.labels = data['labels_per_sent']\n",
        "\n",
        "  def __getitem__(self, index):\n",
        "    return self.sentences[index], self.labels[index]\n",
        "\n",
        "  def __len__(self):\n",
        "    return len(self.sentences)\n",
        "\n",
        "train_dataset = NERDataset(train)\n",
        "valid_dataset = NERDataset(valid)"
      ],
      "execution_count": 15,
      "outputs": []
    },
    {
      "cell_type": "code",
      "metadata": {
        "id": "7oRMRFr0c2Nb"
      },
      "source": [
        "train_dataloader = DataLoader(train_dataset, batch_size=32, shuffle=True)\n",
        "valid_dataloader = DataLoader(valid_dataset, batch_size=32, shuffle=True)"
      ],
      "execution_count": 16,
      "outputs": []
    },
    {
      "cell_type": "markdown",
      "metadata": {
        "id": "cnPVEQnIwCvM"
      },
      "source": [
        "В качестве модели возьмем предобученный BERT."
      ]
    },
    {
      "cell_type": "code",
      "metadata": {
        "colab": {
          "base_uri": "https://localhost:8080/"
        },
        "id": "Kv-cKwqnde3E",
        "outputId": "99d015f9-bac4-4f64-b294-fa8cc6b46ea7"
      },
      "source": [
        "model = BertForTokenClassification.from_pretrained(\n",
        "    \"bert-base-cased\",\n",
        "    num_labels=len(label_to_index),\n",
        "    output_attentions = False,\n",
        "    output_hidden_states = False\n",
        ")"
      ],
      "execution_count": 17,
      "outputs": [
        {
          "output_type": "stream",
          "text": [
            "Some weights of the model checkpoint at bert-base-cased were not used when initializing BertForTokenClassification: ['cls.seq_relationship.weight', 'cls.predictions.bias', 'cls.predictions.transform.LayerNorm.weight', 'cls.predictions.transform.LayerNorm.bias', 'cls.seq_relationship.bias', 'cls.predictions.transform.dense.bias', 'cls.predictions.decoder.weight', 'cls.predictions.transform.dense.weight']\n",
            "- This IS expected if you are initializing BertForTokenClassification from the checkpoint of a model trained on another task or with another architecture (e.g. initializing a BertForSequenceClassification model from a BertForPreTraining model).\n",
            "- This IS NOT expected if you are initializing BertForTokenClassification from the checkpoint of a model that you expect to be exactly identical (initializing a BertForSequenceClassification model from a BertForSequenceClassification model).\n",
            "Some weights of BertForTokenClassification were not initialized from the model checkpoint at bert-base-cased and are newly initialized: ['classifier.weight', 'classifier.bias']\n",
            "You should probably TRAIN this model on a down-stream task to be able to use it for predictions and inference.\n"
          ],
          "name": "stderr"
        }
      ]
    },
    {
      "cell_type": "code",
      "metadata": {
        "id": "W-Y8I1iReYxv"
      },
      "source": [
        "device = torch.device(\"cuda\" if torch.cuda.is_available() else \"cpu\")"
      ],
      "execution_count": 18,
      "outputs": []
    },
    {
      "cell_type": "code",
      "metadata": {
        "id": "__G8sNO0eGfp"
      },
      "source": [
        "model = model.to(device)"
      ],
      "execution_count": 19,
      "outputs": []
    },
    {
      "cell_type": "code",
      "metadata": {
        "id": "mSxc2qQTfvJu"
      },
      "source": [
        "index_to_label = {label_to_index[k]:k for k in label_to_index.keys()}\n",
        "\n",
        "def transform_logits(predictions: List[torch.tensor]):\n",
        "  pred = predictions.numpy().argmax(axis=2)\n",
        "  return [[index_to_label[pr] \\\n",
        "           for pr in prlist] \\\n",
        "          for prlist in pred]\n",
        "\n",
        "def transform_target(target_labels: List[torch.tensor]):\n",
        "  return [[index_to_label[tr] \\\n",
        "           for tr in trlist] \\\n",
        "          for trlist in target_labels.numpy()]\n",
        "\n"
      ],
      "execution_count": 20,
      "outputs": []
    },
    {
      "cell_type": "code",
      "metadata": {
        "id": "Bk0M2FPNhD25"
      },
      "source": [
        "def count_metrics(gold_labels_per_sentence: List[List[str]], predict_labels_per_sentence: List[List[str]]):\n",
        "  gold_labels = [l for l_per_sent in gold_labels_per_sentence \\\n",
        "                 for k in l_per_sent \\\n",
        "                 for l in k]\n",
        "  predict_labels = [l for l_per_sent in predict_labels_per_sentence \\\n",
        "                    for k in l_per_sent \\\n",
        "                    for l in k]\n",
        "  print(classification_report(gold_labels, predict_labels))"
      ],
      "execution_count": 21,
      "outputs": []
    },
    {
      "cell_type": "code",
      "metadata": {
        "id": "7fMoNq1iNAGT"
      },
      "source": [
        "optimizer = torch.optim.Adam(model.parameters(), lr=0.0001)\n",
        "scheduler = StepLR(optimizer, step_size=2, gamma=0.1)"
      ],
      "execution_count": 22,
      "outputs": []
    },
    {
      "cell_type": "code",
      "metadata": {
        "colab": {
          "base_uri": "https://localhost:8080/"
        },
        "id": "_c45KAbxd7Yt",
        "outputId": "8cb9d0da-28c1-4ef7-ad5b-b58172c54ead"
      },
      "source": [
        "losses = {\"train_losses\": [], \"valid_losses\": []}\n",
        "average_losses = {\"train_losses\": [], \"valid_losses\": []}\n",
        "epochs = 4\n",
        "\n",
        "for epoch in range(epochs):\n",
        "  print(f\"Start epoch #{epoch}\")\n",
        "  model.train()\n",
        "  total_train_loss = 0\n",
        "  for train_batch in train_dataloader:\n",
        "\n",
        "    # print(train_batch)\n",
        "    # train_batch = torch.as_tensor(train_batch)\n",
        "    # [print(device) for t in train_batch]\n",
        "    train_batch = tuple(t.to(device) for t in train_batch)\n",
        "    # train_batch = train_batch.to(device)\n",
        "    out = model(train_batch[0], labels=train_batch[1])\n",
        "    loss = out[0]\n",
        "    optimizer.zero_grad()\n",
        "    # print(loss)\n",
        "    # print(logits)\n",
        "    total_train_loss += loss.item()\n",
        "    losses[\"train_losses\"].append(loss.item())\n",
        "    loss.backward()\n",
        "    optimizer.step()\n",
        "    \n",
        "    # ...\n",
        "\n",
        "  \n",
        "  predict_labels, gold_labels = [], []\n",
        "\n",
        "  model.eval()\n",
        "  total_valid_loss = 0\n",
        "  for valid_batch in valid_dataloader:\n",
        "\n",
        "    # valid_batch = valid_batch.to(device)\n",
        "    valid_batch = tuple(t.to(device) for t in valid_batch)\n",
        "    with torch.no_grad():\n",
        "      out = model(valid_batch[0], labels=valid_batch[1])\n",
        "    losses[\"valid_losses\"].append(out[0].item())\n",
        "    total_valid_loss += out[0].item()\n",
        "    logits = out[1].detach().cpu()\n",
        "    label_ids = valid_batch[1].to('cpu')\n",
        "    gold_labels.append(transform_target(label_ids))\n",
        "    predict_labels.append(transform_logits(logits))\n",
        "    # ...\n",
        "\n",
        "  average_losses['train_losses'].append(total_train_loss/len(train['sentences']))\n",
        "  average_losses['valid_losses'].append(total_train_loss/len(valid['sentences']))\n",
        "\n",
        "  count_metrics(gold_labels, predict_labels)\n",
        "\n",
        "  scheduler.step()\n",
        "  \n",
        "  print(f\"End epoch #{epoch}\")\n",
        "\n"
      ],
      "execution_count": 23,
      "outputs": [
        {
          "output_type": "stream",
          "text": [
            "Start epoch #0\n",
            "              precision    recall  f1-score   support\n",
            "\n",
            "         LOC       0.89      0.86      0.88      2094\n",
            "        MISC       0.88      0.66      0.76      1268\n",
            "           O       1.00      1.00      1.00    358647\n",
            "         ORG       0.91      0.81      0.85      2092\n",
            "         PER       0.92      0.92      0.92      3149\n",
            "\n",
            "    accuracy                           1.00    367250\n",
            "   macro avg       0.92      0.85      0.88    367250\n",
            "weighted avg       1.00      1.00      1.00    367250\n",
            "\n",
            "End epoch #0\n",
            "Start epoch #1\n",
            "              precision    recall  f1-score   support\n",
            "\n",
            "         LOC       0.90      0.88      0.89      2094\n",
            "        MISC       0.92      0.70      0.80      1268\n",
            "           O       1.00      1.00      1.00    358647\n",
            "         ORG       0.92      0.84      0.88      2092\n",
            "         PER       0.91      0.95      0.93      3149\n",
            "\n",
            "    accuracy                           1.00    367250\n",
            "   macro avg       0.93      0.87      0.90    367250\n",
            "weighted avg       1.00      1.00      1.00    367250\n",
            "\n",
            "End epoch #1\n",
            "Start epoch #2\n",
            "              precision    recall  f1-score   support\n",
            "\n",
            "         LOC       0.92      0.88      0.90      2094\n",
            "        MISC       0.89      0.74      0.81      1268\n",
            "           O       1.00      1.00      1.00    358647\n",
            "         ORG       0.89      0.88      0.88      2092\n",
            "         PER       0.93      0.95      0.94      3149\n",
            "\n",
            "    accuracy                           1.00    367250\n",
            "   macro avg       0.93      0.89      0.91    367250\n",
            "weighted avg       1.00      1.00      1.00    367250\n",
            "\n",
            "End epoch #2\n",
            "Start epoch #3\n",
            "              precision    recall  f1-score   support\n",
            "\n",
            "         LOC       0.92      0.89      0.91      2094\n",
            "        MISC       0.88      0.75      0.81      1268\n",
            "           O       1.00      1.00      1.00    358647\n",
            "         ORG       0.90      0.87      0.89      2092\n",
            "         PER       0.93      0.95      0.94      3149\n",
            "\n",
            "    accuracy                           1.00    367250\n",
            "   macro avg       0.93      0.89      0.91    367250\n",
            "weighted avg       1.00      1.00      1.00    367250\n",
            "\n",
            "End epoch #3\n"
          ],
          "name": "stdout"
        }
      ]
    },
    {
      "cell_type": "code",
      "metadata": {
        "colab": {
          "base_uri": "https://localhost:8080/",
          "height": 282
        },
        "id": "8G1vKIS03Oqc",
        "outputId": "db2f86ac-9bb8-4c51-b724-fb4523279e81"
      },
      "source": [
        "plt.plot(losses['train_losses'][10:])"
      ],
      "execution_count": 24,
      "outputs": [
        {
          "output_type": "execute_result",
          "data": {
            "text/plain": [
              "[<matplotlib.lines.Line2D at 0x7f1bdbba3050>]"
            ]
          },
          "metadata": {
            "tags": []
          },
          "execution_count": 24
        },
        {
          "output_type": "display_data",
          "data": {
            "image/png": "[encoded data removed]",
            "text/plain": [
              "<Figure size 432x288 with 1 Axes>"
            ]
          },
          "metadata": {
            "tags": [],
            "needs_background": "light"
          }
        }
      ]
    },
    {
      "cell_type": "code",
      "metadata": {
        "colab": {
          "base_uri": "https://localhost:8080/",
          "height": 280
        },
        "id": "Il88etztxqBs",
        "outputId": "bf177121-e9ee-4b22-9f3a-1265d5b1e06e"
      },
      "source": [
        "plt.plot(losses['valid_losses'])"
      ],
      "execution_count": 25,
      "outputs": [
        {
          "output_type": "execute_result",
          "data": {
            "text/plain": [
              "[<matplotlib.lines.Line2D at 0x7f1bdc4ff2d0>]"
            ]
          },
          "metadata": {
            "tags": []
          },
          "execution_count": 25
        },
        {
          "output_type": "display_data",
          "data": {
            "image/png": "[encoded data removed]",
            "text/plain": [
              "<Figure size 432x288 with 1 Axes>"
            ]
          },
          "metadata": {
            "tags": [],
            "needs_background": "light"
          }
        }
      ]
    },
    {
      "cell_type": "code",
      "metadata": {
        "id": "xJrCY1QZQ4DJ",
        "colab": {
          "base_uri": "https://localhost:8080/",
          "height": 280
        },
        "outputId": "2fc77873-e7f5-443e-cfaf-6e3f41baa59d"
      },
      "source": [
        "plt.plot(average_losses['train_losses'], label='Train average loss')\n",
        "plt.plot(average_losses['valid_losses'], label='Validation average loss')\n",
        "plt.legend()"
      ],
      "execution_count": 26,
      "outputs": [
        {
          "output_type": "execute_result",
          "data": {
            "text/plain": [
              "<matplotlib.legend.Legend at 0x7f1bdc4ff450>"
            ]
          },
          "metadata": {
            "tags": []
          },
          "execution_count": 26
        },
        {
          "output_type": "display_data",
          "data": {
            "image/png": "[encoded data removed]",
            "text/plain": [
              "<Figure size 432x288 with 1 Axes>"
            ]
          },
          "metadata": {
            "tags": [],
            "needs_background": "light"
          }
        }
      ]
    },
    {
      "cell_type": "code",
      "metadata": {
        "id": "n2FUS1il9pHE"
      },
      "source": [
        ""
      ],
      "execution_count": 26,
      "outputs": []
    }
  ]
}